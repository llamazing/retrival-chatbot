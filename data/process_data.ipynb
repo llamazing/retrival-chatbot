{
 "cells": [
  {
   "cell_type": "code",
   "execution_count": 1,
   "metadata": {},
   "outputs": [],
   "source": [
    "data = open(\"data.csv\").read().strip().split(\"\\n\")\n",
    "sep_data = [item.split(\"\\t\") for item in data]"
   ]
  },
  {
   "cell_type": "code",
   "execution_count": 2,
   "metadata": {},
   "outputs": [
    {
     "data": {
      "text/plain": [
       "1018"
      ]
     },
     "execution_count": 2,
     "metadata": {},
     "output_type": "execute_result"
    }
   ],
   "source": [
    "len(sep_data)"
   ]
  },
  {
   "cell_type": "code",
   "execution_count": 4,
   "metadata": {},
   "outputs": [],
   "source": [
    "alen = set([len(item) for item in sep_data]) "
   ]
  },
  {
   "cell_type": "code",
   "execution_count": 5,
   "metadata": {},
   "outputs": [
    {
     "data": {
      "text/plain": [
       "{8}"
      ]
     },
     "execution_count": 5,
     "metadata": {},
     "output_type": "execute_result"
    }
   ],
   "source": [
    "alen"
   ]
  },
  {
   "cell_type": "code",
   "execution_count": 6,
   "metadata": {},
   "outputs": [
    {
     "data": {
      "text/plain": [
       "['0',\n",
       " '小米空气净化器2多少钱',\n",
       " '您好，小米空气净化器2现在售价599元',\n",
       " '最新的空气净化器多少钱',\n",
       " '小米最新的空气净化器多少钱',\n",
       " '最新款的空气净化器多贵',\n",
       " '我想了解一下最新的空气净化器的价位',\n",
       " '现在最新的空气净化器价位是怎样的']"
      ]
     },
     "execution_count": 6,
     "metadata": {},
     "output_type": "execute_result"
    }
   ],
   "source": [
    "sep_data[0]"
   ]
  },
  {
   "cell_type": "code",
   "execution_count": 7,
   "metadata": {},
   "outputs": [],
   "source": [
    "import jieba\n",
    "seg_data = []"
   ]
  },
  {
   "cell_type": "code",
   "execution_count": 8,
   "metadata": {},
   "outputs": [],
   "source": [
    "col_data = list(zip(*sep_data))"
   ]
  },
  {
   "cell_type": "code",
   "execution_count": 10,
   "metadata": {},
   "outputs": [],
   "source": [
    "flag = [1, 3, 4, 5, 6, 7]"
   ]
  },
  {
   "cell_type": "code",
   "execution_count": 18,
   "metadata": {},
   "outputs": [],
   "source": [
    "def segment_data(ch_data):\n",
    "    result = []\n",
    "    for item in ch_data:\n",
    "        result.append(\" \".join(jieba.cut(item)))\n",
    "    return result"
   ]
  },
  {
   "cell_type": "code",
   "execution_count": 24,
   "metadata": {},
   "outputs": [
    {
     "name": "stderr",
     "output_type": "stream",
     "text": [
      "Building prefix dict from the default dictionary ...\n",
      "Dumping model to file cache /var/folders/81/4j4qwk416tb_47lk0lw234f00000gn/T/jieba.cache\n",
      "Loading model cost 0.726 seconds.\n",
      "Prefix dict has been built succesfully.\n"
     ]
    }
   ],
   "source": [
    "seg_data = []\n",
    "for i, item in enumerate(col_data):\n",
    "    if i in flag:\n",
    "        seg_data.append(segment_data(item))\n",
    "    else:\n",
    "        seg_data.append(item)"
   ]
  },
  {
   "cell_type": "code",
   "execution_count": 26,
   "metadata": {},
   "outputs": [
    {
     "data": {
      "text/plain": [
       "8"
      ]
     },
     "execution_count": 26,
     "metadata": {},
     "output_type": "execute_result"
    }
   ],
   "source": [
    "len(seg_data)"
   ]
  },
  {
   "cell_type": "code",
   "execution_count": 27,
   "metadata": {},
   "outputs": [],
   "source": [
    "out_data = list(zip(*seg_data))"
   ]
  },
  {
   "cell_type": "code",
   "execution_count": 28,
   "metadata": {},
   "outputs": [
    {
     "data": {
      "text/plain": [
       "1018"
      ]
     },
     "execution_count": 28,
     "metadata": {},
     "output_type": "execute_result"
    }
   ],
   "source": [
    "len(out_data)"
   ]
  },
  {
   "cell_type": "code",
   "execution_count": 29,
   "metadata": {},
   "outputs": [
    {
     "data": {
      "text/plain": [
       "('0',\n",
       " '小米 空气 净化器 2 多少 钱',\n",
       " '您好，小米空气净化器2现在售价599元',\n",
       " '最新 的 空气 净化器 多少 钱',\n",
       " '小米 最新 的 空气 净化器 多少 钱',\n",
       " '最新款 的 空气 净化器 多贵',\n",
       " '我 想 了解 一下 最新 的 空气 净化器 的 价位',\n",
       " '现在 最新 的 空气 净化器 价位 是 怎样 的')"
      ]
     },
     "execution_count": 29,
     "metadata": {},
     "output_type": "execute_result"
    }
   ],
   "source": [
    "out_data[0]"
   ]
  },
  {
   "cell_type": "code",
   "execution_count": 30,
   "metadata": {},
   "outputs": [
    {
     "name": "stdout",
     "output_type": "stream",
     "text": [
      "('0', '1') ['小米 空气 净化器 2 多少 钱', '小米 空气 净化器 2 效果 如何'] ('您好，小米空气净化器2现在售价599元', '您好，小米空气净化器2颗粒物CADR高达310m^3/h')\n"
     ]
    }
   ],
   "source": [
    "ids = seg_data[0]\n",
    "questions = seg_data[1]\n",
    "answers = seg_data[2]\n",
    "print(ids[:2], questions[:2], answers[:2])"
   ]
  },
  {
   "cell_type": "code",
   "execution_count": 31,
   "metadata": {},
   "outputs": [],
   "source": [
    "import json"
   ]
  },
  {
   "cell_type": "code",
   "execution_count": 33,
   "metadata": {},
   "outputs": [],
   "source": [
    "js_data = {\"ids\": ids, \"questions\": questions, \"answers\": answers}\n",
    "json.dump(js_data, open(\"qa.json\", \"w\"))"
   ]
  },
  {
   "cell_type": "code",
   "execution_count": 34,
   "metadata": {},
   "outputs": [
    {
     "data": {
      "text/plain": [
       "125926"
      ]
     },
     "execution_count": 34,
     "metadata": {},
     "output_type": "execute_result"
    }
   ],
   "source": [
    "open(\"segment_data\", \"w\").write(\"\\n\".join([\"\\t\".join(item) for item in out_data]))"
   ]
  },
  {
   "cell_type": "code",
   "execution_count": 35,
   "metadata": {},
   "outputs": [],
   "source": [
    "import random    "
   ]
  },
  {
   "cell_type": "code",
   "execution_count": 64,
   "metadata": {},
   "outputs": [],
   "source": [
    "def random_neg_sample(raw_data):\n",
    "    collect_data = list(zip(*raw_data))\n",
    "    all_ids = set(list(range(len(collect_data) * 6)))\n",
    "    print(len(all_ids))\n",
    "    result = []\n",
    "    for i, item in enumerate(collect_data):\n",
    "        klist = list(all_ids - set(list(range(i*6, (i+1)*6))))\n",
    "        if i == 0: print(len(klist))\n",
    "        assert len(klist) == len(all_ids) - 6, (len(klist), len(all_ids))\n",
    "        j = 0\n",
    "        len_item = len(item)\n",
    "        while( j < len_item - 1):\n",
    "            k = len_item - 1 - j\n",
    "            samples = random.sample(klist, k)\n",
    "            neg_sample = []\n",
    "            for kl in samples:\n",
    "                loc = kl // 6 \n",
    "                inloc = kl % 6\n",
    "                neg_sample.append([item[j], collect_data[loc][inloc], 0])\n",
    "            pos_sample = []\n",
    "            for pos in item[j+1:]:\n",
    "                pos_sample.append([item[j], pos, 1])\n",
    "            assert len(pos_sample) == len(neg_sample), (len(pos_sample), len(neg_sample), k)\n",
    "            result.extend(neg_sample)\n",
    "            result.extend(pos_sample)\n",
    "            j += 1\n",
    "    random.shuffle(result)\n",
    "    return result"
   ]
  },
  {
   "cell_type": "code",
   "execution_count": 37,
   "metadata": {},
   "outputs": [
    {
     "data": {
      "text/plain": [
       "('0', '1', '2')"
      ]
     },
     "execution_count": 37,
     "metadata": {},
     "output_type": "execute_result"
    }
   ],
   "source": [
    "seg_data[0][:3]"
   ]
  },
  {
   "cell_type": "code",
   "execution_count": 38,
   "metadata": {},
   "outputs": [],
   "source": [
    "all_q = [seg_data[1], seg_data[3], seg_data[4], seg_data[5], seg_data[6], seg_data[7]]"
   ]
  },
  {
   "cell_type": "code",
   "execution_count": 39,
   "metadata": {},
   "outputs": [],
   "source": [
    "all_q_t = list(zip(*all_q))\n",
    "train_q_t = all_q_t[:950]\n",
    "dev_q_t = all_q_t[950:]"
   ]
  },
  {
   "cell_type": "code",
   "execution_count": 40,
   "metadata": {},
   "outputs": [
    {
     "data": {
      "text/plain": [
       "[('小米 空气 净化器 2 多少 钱',\n",
       "  '最新 的 空气 净化器 多少 钱',\n",
       "  '小米 最新 的 空气 净化器 多少 钱',\n",
       "  '最新款 的 空气 净化器 多贵',\n",
       "  '我 想 了解 一下 最新 的 空气 净化器 的 价位',\n",
       "  '现在 最新 的 空气 净化器 价位 是 怎样 的'),\n",
       " ('小米 空气 净化器 2 效果 如何',\n",
       "  '新 的 空气 净化器 性能 如何',\n",
       "  '小米 空气 净化器 2 的 净化 效果 如何',\n",
       "  '小米 空气 净化器 2 的 净化 性能 如何',\n",
       "  '新 的 空气 净化器 能力 怎样',\n",
       "  '新 的 空气 净化器 能 达到 怎样 的 效果'),\n",
       " ('小米 空气 净化器 2 占地 大 吗',\n",
       "  '新 的 空气 净化器 大小 有 多 大',\n",
       "  '新 的 空气 净化器 体积 有 多 大',\n",
       "  '小米 空气 净化器 2 体积 上 怎样',\n",
       "  '小米 空气 净化器 2 有 多 大',\n",
       "  '新 的 空气 净化器 不会 很 占地 吧')]"
      ]
     },
     "execution_count": 40,
     "metadata": {},
     "output_type": "execute_result"
    }
   ],
   "source": [
    "train_q_t[:3]"
   ]
  },
  {
   "cell_type": "code",
   "execution_count": 41,
   "metadata": {},
   "outputs": [],
   "source": [
    "train_q = list(zip(*train_q_t))\n",
    "eval_q = list(zip(*dev_q_t))"
   ]
  },
  {
   "cell_type": "code",
   "execution_count": 63,
   "metadata": {},
   "outputs": [
    {
     "name": "stdout",
     "output_type": "stream",
     "text": [
      "950 950\n"
     ]
    }
   ],
   "source": [
    "train_q[0][:2]\n",
    "eval_q[0][:2]\n",
    "print(len(train_q_t), len(train_q[0]))"
   ]
  },
  {
   "cell_type": "code",
   "execution_count": 65,
   "metadata": {},
   "outputs": [
    {
     "name": "stdout",
     "output_type": "stream",
     "text": [
      "5700\n",
      "5694\n"
     ]
    }
   ],
   "source": [
    "train = random_neg_sample(train_q)"
   ]
  },
  {
   "cell_type": "code",
   "execution_count": 66,
   "metadata": {},
   "outputs": [
    {
     "data": {
      "text/plain": [
       "28500"
      ]
     },
     "execution_count": 66,
     "metadata": {},
     "output_type": "execute_result"
    }
   ],
   "source": [
    "len(train)"
   ]
  },
  {
   "cell_type": "code",
   "execution_count": 67,
   "metadata": {},
   "outputs": [
    {
     "data": {
      "text/plain": [
       "14250"
      ]
     },
     "execution_count": 67,
     "metadata": {},
     "output_type": "execute_result"
    }
   ],
   "source": [
    "sum([item[2] for item in train])"
   ]
  },
  {
   "cell_type": "code",
   "execution_count": 71,
   "metadata": {},
   "outputs": [
    {
     "name": "stdout",
     "output_type": "stream",
     "text": [
      "408\n",
      "402\n",
      "2040\n",
      "1020\n"
     ]
    }
   ],
   "source": [
    "dev = random_neg_sample(eval_q)\n",
    "print(len(dev))\n",
    "print(sum([item[2] for item in dev]))"
   ]
  },
  {
   "cell_type": "code",
   "execution_count": 74,
   "metadata": {},
   "outputs": [],
   "source": [
    "def write_data(origin_data, dtype=\"train\"):\n",
    "    json.dump(origin_data, open(\"origin_\" + dtype + \".json\", \"w\"))\n",
    "    q1, q2, label = list(zip(*origin_data))\n",
    "    ids = list(range(len(label)))\n",
    "    json.dump({\"ids\":ids, \"q1\": q1, \"q2\": q2, \"label\":label}, open(dtype+\".json\", \"w\"))"
   ]
  },
  {
   "cell_type": "code",
   "execution_count": 75,
   "metadata": {},
   "outputs": [],
   "source": [
    "write_data(train)\n",
    "write_data(dev, \"dev\")"
   ]
  },
  {
   "cell_type": "code",
   "execution_count": null,
   "metadata": {},
   "outputs": [],
   "source": []
  }
 ],
 "metadata": {
  "kernelspec": {
   "display_name": "Python 3",
   "language": "python",
   "name": "python3"
  },
  "language_info": {
   "codemirror_mode": {
    "name": "ipython",
    "version": 3
   },
   "file_extension": ".py",
   "mimetype": "text/x-python",
   "name": "python",
   "nbconvert_exporter": "python",
   "pygments_lexer": "ipython3",
   "version": "3.6.4"
  }
 },
 "nbformat": 4,
 "nbformat_minor": 2
}
